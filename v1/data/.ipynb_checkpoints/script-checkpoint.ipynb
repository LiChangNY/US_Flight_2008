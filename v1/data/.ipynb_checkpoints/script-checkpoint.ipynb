{
 "cells": [
  {
   "cell_type": "code",
   "execution_count": 1,
   "metadata": {
    "collapsed": false
   },
   "outputs": [],
   "source": [
    "import pandas as pd\n",
    "import io\n",
    "import urllib2\n",
    "import bz2"
   ]
  },
  {
   "cell_type": "code",
   "execution_count": 2,
   "metadata": {
    "collapsed": false
   },
   "outputs": [],
   "source": [
    "url = \"http://stat-computing.org/dataexpo/2009/2008.csv.bz2?raw=true\"\n",
    "raw_data = urllib2.urlopen(url).read()\n",
    "decompressed_data = bz2.decompress(raw_data)\n",
    "df = pd.read_csv(io.BytesIO(decompressed_data))"
   ]
  },
  {
   "cell_type": "code",
   "execution_count": 3,
   "metadata": {
    "collapsed": true
   },
   "outputs": [],
   "source": [
    "df_s = df[['ArrDelay',\n",
    "          'DepDelay',\n",
    "          'Cancelled',\n",
    "          'Diverted',\n",
    "          'Origin',\n",
    "          'Dest',\n",
    "          ]]"
   ]
  },
  {
   "cell_type": "code",
   "execution_count": 4,
   "metadata": {
    "collapsed": false
   },
   "outputs": [],
   "source": [
    "## recode variables\n",
    "df_s['ArrDelay_YN'] = df_s['ArrDelay'].apply(lambda x: 1 if x > 0 else 0)\n",
    "df_s['DepDelay_YN'] = df_s['DepDelay'].apply(lambda x: 1 if x > 0 else 0)"
   ]
  },
  {
   "cell_type": "code",
   "execution_count": 5,
   "metadata": {
    "collapsed": false
   },
   "outputs": [],
   "source": [
    "## group by 'origin_airport', 'dest_airport'\n",
    "df_group = df_s.drop(['ArrDelay', 'DepDelay'], axis = 1).groupby(['Origin', 'Dest']).sum()\n",
    "df_group['Flights_Count'] = df_s.groupby(['Origin', 'Dest']).size()\n",
    "df_group = df_group.reset_index()\n",
    "df_group['ArrDelay_YN'] = df_group['ArrDelay_YN']/ df_group['Flights_Count']\n",
    "df_group['DepDelay_YN'] = df_group['DepDelay_YN']/ df_group['Flights_Count']\n",
    "df_group['Cancelled'] = df_group['Cancelled']/ df_group['Flights_Count']\n",
    "df_group['Diverted'] = df_group['Diverted']/ df_group['Flights_Count']"
   ]
  },
  {
   "cell_type": "code",
   "execution_count": 6,
   "metadata": {
    "collapsed": false
   },
   "outputs": [],
   "source": [
    "## load airport\n",
    "airport = pd.read_csv('airports.csv')\n",
    "airport.drop('country', axis = 1, inplace = True)\n",
    "## rename airport columns to differentiate origin and dest airports\n",
    "def rename_column(df, type_append):\n",
    "    columns = list(df.columns.values)\n",
    "    renamed_columns = {}\n",
    "    for c in columns:\n",
    "        if c == 'iata':\n",
    "            new_name = type_append\n",
    "        else:\n",
    "            new_name = type_append + \"_\" + c \n",
    "        renamed_columns[c] = new_name\n",
    "    return renamed_columns\n",
    "\n",
    "origin_airport = rename_column(airport, 'Origin')\n",
    "dest_airport = rename_column(airport, 'Dest')\n",
    "\n",
    "origin = airport.rename(columns= origin_airport)\n",
    "dest = airport.rename(columns = dest_airport)"
   ]
  },
  {
   "cell_type": "code",
   "execution_count": 7,
   "metadata": {
    "collapsed": false
   },
   "outputs": [],
   "source": [
    "## merge with airport csv\n",
    "data = df_group.merge(origin, \n",
    "             how = 'left',\n",
    "             left_on = 'Origin', \n",
    "             right_on = 'Origin')\n",
    "data = data.merge(dest, \n",
    "             how = 'left',\n",
    "             left_on = 'Dest',\n",
    "             right_on = 'Dest')"
   ]
  },
  {
   "cell_type": "code",
   "execution_count": 8,
   "metadata": {
    "collapsed": false
   },
   "outputs": [
    {
     "data": {
      "text/html": [
       "<div style=\"max-height:1000px;max-width:1500px;overflow:auto;\">\n",
       "<table border=\"1\" class=\"dataframe\">\n",
       "  <thead>\n",
       "    <tr style=\"text-align: right;\">\n",
       "      <th></th>\n",
       "      <th>Origin</th>\n",
       "      <th>Dest</th>\n",
       "      <th>Cancelled</th>\n",
       "      <th>Diverted</th>\n",
       "      <th>ArrDelay_YN</th>\n",
       "      <th>DepDelay_YN</th>\n",
       "      <th>Flights_Count</th>\n",
       "      <th>Origin_airport</th>\n",
       "      <th>Origin_city</th>\n",
       "      <th>Origin_state</th>\n",
       "      <th>Origin_lat</th>\n",
       "      <th>Origin_long</th>\n",
       "      <th>Dest_airport</th>\n",
       "      <th>Dest_city</th>\n",
       "      <th>Dest_state</th>\n",
       "      <th>Dest_lat</th>\n",
       "      <th>Dest_long</th>\n",
       "    </tr>\n",
       "  </thead>\n",
       "  <tbody>\n",
       "    <tr>\n",
       "      <th>0</th>\n",
       "      <td> ABE</td>\n",
       "      <td> ATL</td>\n",
       "      <td> 0.016413</td>\n",
       "      <td> 0.004689</td>\n",
       "      <td> 0.472450</td>\n",
       "      <td> 0.372802</td>\n",
       "      <td>  853</td>\n",
       "      <td> Lehigh Valley International</td>\n",
       "      <td>     Allentown</td>\n",
       "      <td> PA</td>\n",
       "      <td> 40.652363</td>\n",
       "      <td> -75.440402</td>\n",
       "      <td> William B Hartsfield-Atlanta Intl</td>\n",
       "      <td> Atlanta</td>\n",
       "      <td> GA</td>\n",
       "      <td> 33.640444</td>\n",
       "      <td>-84.426944</td>\n",
       "    </tr>\n",
       "    <tr>\n",
       "      <th>1</th>\n",
       "      <td> ABQ</td>\n",
       "      <td> ATL</td>\n",
       "      <td> 0.005623</td>\n",
       "      <td> 0.003749</td>\n",
       "      <td> 0.343955</td>\n",
       "      <td> 0.238051</td>\n",
       "      <td> 1067</td>\n",
       "      <td>   Albuquerque International</td>\n",
       "      <td>   Albuquerque</td>\n",
       "      <td> NM</td>\n",
       "      <td> 35.040222</td>\n",
       "      <td>-106.609194</td>\n",
       "      <td> William B Hartsfield-Atlanta Intl</td>\n",
       "      <td> Atlanta</td>\n",
       "      <td> GA</td>\n",
       "      <td> 33.640444</td>\n",
       "      <td>-84.426944</td>\n",
       "    </tr>\n",
       "    <tr>\n",
       "      <th>2</th>\n",
       "      <td> ABY</td>\n",
       "      <td> ATL</td>\n",
       "      <td> 0.015525</td>\n",
       "      <td> 0.000913</td>\n",
       "      <td> 0.478539</td>\n",
       "      <td> 0.346119</td>\n",
       "      <td> 1095</td>\n",
       "      <td>  Southwest Georgia Regional</td>\n",
       "      <td>        Albany</td>\n",
       "      <td> GA</td>\n",
       "      <td> 31.535515</td>\n",
       "      <td> -84.194473</td>\n",
       "      <td> William B Hartsfield-Atlanta Intl</td>\n",
       "      <td> Atlanta</td>\n",
       "      <td> GA</td>\n",
       "      <td> 33.640444</td>\n",
       "      <td>-84.426944</td>\n",
       "    </tr>\n",
       "    <tr>\n",
       "      <th>3</th>\n",
       "      <td> ACY</td>\n",
       "      <td> ATL</td>\n",
       "      <td> 0.026549</td>\n",
       "      <td> 0.008850</td>\n",
       "      <td> 0.212389</td>\n",
       "      <td> 0.362832</td>\n",
       "      <td>  113</td>\n",
       "      <td> Atlantic City International</td>\n",
       "      <td> Atlantic City</td>\n",
       "      <td> NJ</td>\n",
       "      <td> 39.457583</td>\n",
       "      <td> -74.577167</td>\n",
       "      <td> William B Hartsfield-Atlanta Intl</td>\n",
       "      <td> Atlanta</td>\n",
       "      <td> GA</td>\n",
       "      <td> 33.640444</td>\n",
       "      <td>-84.426944</td>\n",
       "    </tr>\n",
       "    <tr>\n",
       "      <th>4</th>\n",
       "      <td> AEX</td>\n",
       "      <td> ATL</td>\n",
       "      <td> 0.021363</td>\n",
       "      <td> 0.005086</td>\n",
       "      <td> 0.551373</td>\n",
       "      <td> 0.362157</td>\n",
       "      <td>  983</td>\n",
       "      <td>    Alexandria International</td>\n",
       "      <td>    Alexandria</td>\n",
       "      <td> LA</td>\n",
       "      <td> 31.327372</td>\n",
       "      <td> -92.548556</td>\n",
       "      <td> William B Hartsfield-Atlanta Intl</td>\n",
       "      <td> Atlanta</td>\n",
       "      <td> GA</td>\n",
       "      <td> 33.640444</td>\n",
       "      <td>-84.426944</td>\n",
       "    </tr>\n",
       "  </tbody>\n",
       "</table>\n",
       "</div>"
      ],
      "text/plain": [
       "  Origin Dest  Cancelled  Diverted  ArrDelay_YN  DepDelay_YN  Flights_Count  \\\n",
       "0    ABE  ATL   0.016413  0.004689     0.472450     0.372802            853   \n",
       "1    ABQ  ATL   0.005623  0.003749     0.343955     0.238051           1067   \n",
       "2    ABY  ATL   0.015525  0.000913     0.478539     0.346119           1095   \n",
       "3    ACY  ATL   0.026549  0.008850     0.212389     0.362832            113   \n",
       "4    AEX  ATL   0.021363  0.005086     0.551373     0.362157            983   \n",
       "\n",
       "                Origin_airport    Origin_city Origin_state  Origin_lat  \\\n",
       "0  Lehigh Valley International      Allentown           PA   40.652363   \n",
       "1    Albuquerque International    Albuquerque           NM   35.040222   \n",
       "2   Southwest Georgia Regional         Albany           GA   31.535515   \n",
       "3  Atlantic City International  Atlantic City           NJ   39.457583   \n",
       "4     Alexandria International     Alexandria           LA   31.327372   \n",
       "\n",
       "   Origin_long                       Dest_airport Dest_city Dest_state  \\\n",
       "0   -75.440402  William B Hartsfield-Atlanta Intl   Atlanta         GA   \n",
       "1  -106.609194  William B Hartsfield-Atlanta Intl   Atlanta         GA   \n",
       "2   -84.194473  William B Hartsfield-Atlanta Intl   Atlanta         GA   \n",
       "3   -74.577167  William B Hartsfield-Atlanta Intl   Atlanta         GA   \n",
       "4   -92.548556  William B Hartsfield-Atlanta Intl   Atlanta         GA   \n",
       "\n",
       "    Dest_lat  Dest_long  \n",
       "0  33.640444 -84.426944  \n",
       "1  33.640444 -84.426944  \n",
       "2  33.640444 -84.426944  \n",
       "3  33.640444 -84.426944  \n",
       "4  33.640444 -84.426944  "
      ]
     },
     "execution_count": 8,
     "metadata": {},
     "output_type": "execute_result"
    }
   ],
   "source": [
    "data.head(5)"
   ]
  },
  {
   "cell_type": "code",
   "execution_count": 9,
   "metadata": {
    "collapsed": false
   },
   "outputs": [],
   "source": [
    "# use only 48 contiguous states + DC data.\n",
    "final = data[(data.Origin_lat > 24.396308) & (data.Origin_lat < 49.384358) & \n",
    "     (data.Origin_long > -124.848974) & (data.Origin_long < -66.885444) &\n",
    "     (data.Dest_lat >  24.396308) & (data.Dest_lat < 49.384358) & \n",
    "     (data.Dest_long > -124.848974) & (data.Dest_long < -66.885444)  ]"
   ]
  },
  {
   "cell_type": "code",
   "execution_count": 10,
   "metadata": {
    "collapsed": true
   },
   "outputs": [],
   "source": [
    "final.to_csv('data.csv', index = False)"
   ]
  },
  {
   "cell_type": "code",
   "execution_count": null,
   "metadata": {
    "collapsed": true
   },
   "outputs": [],
   "source": []
  }
 ],
 "metadata": {
  "kernelspec": {
   "display_name": "Python 2",
   "language": "python",
   "name": "python2"
  },
  "language_info": {
   "codemirror_mode": {
    "name": "ipython",
    "version": 2
   },
   "file_extension": ".py",
   "mimetype": "text/x-python",
   "name": "python",
   "nbconvert_exporter": "python",
   "pygments_lexer": "ipython2",
   "version": "2.7.10"
  }
 },
 "nbformat": 4,
 "nbformat_minor": 0
}
