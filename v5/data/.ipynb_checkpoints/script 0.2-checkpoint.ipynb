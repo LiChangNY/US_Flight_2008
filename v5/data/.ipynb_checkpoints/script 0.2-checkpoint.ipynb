{
 "cells": [
  {
   "cell_type": "code",
   "execution_count": 1,
   "metadata": {
    "collapsed": false
   },
   "outputs": [],
   "source": [
    "import pandas as pd\n",
    "import io\n",
    "import urllib2\n",
    "import bz2"
   ]
  },
  {
   "cell_type": "code",
   "execution_count": 2,
   "metadata": {
    "collapsed": false
   },
   "outputs": [],
   "source": [
    "url = \"http://stat-computing.org/dataexpo/2009/2008.csv.bz2?raw=true\"\n",
    "raw_data = urllib2.urlopen(url).read()\n",
    "decompressed_data = bz2.decompress(raw_data)\n",
    "df = pd.read_csv(io.BytesIO(decompressed_data))"
   ]
  },
  {
   "cell_type": "code",
   "execution_count": 3,
   "metadata": {
    "collapsed": true
   },
   "outputs": [],
   "source": [
    "df_s = df[['CancellationCode',\n",
    "          'Cancelled',\n",
    "          'Origin',\n",
    "          ]]"
   ]
  },
  {
   "cell_type": "code",
   "execution_count": 4,
   "metadata": {
    "collapsed": false
   },
   "outputs": [],
   "source": [
    "df_s1 = df_s[['Origin', 'Cancelled']].groupby(['Origin']).count().reset_index().rename(columns = {'Cancelled': \"Count\"})"
   ]
  },
  {
   "cell_type": "code",
   "execution_count": 5,
   "metadata": {
    "collapsed": false
   },
   "outputs": [],
   "source": [
    "##reshape CancellationCode to four columns\n",
    "df_s2 = df_s.groupby(['Origin', 'CancellationCode']).count('CancellationCode').unstack().reset_index(\"Origin\")\n",
    "df_s2.columns = ['Origin', 'Carrier', 'Weather', 'NationalAirSystem', 'Security']\n",
    "df_s2 = df_s2.fillna(0)\n",
    "df_s2['Cancelled'] = df_s2.Carrier + df_s2.Weather + df_s2.NationalAirSystem + df_s2.Security"
   ]
  },
  {
   "cell_type": "code",
   "execution_count": 6,
   "metadata": {
    "collapsed": false
   },
   "outputs": [],
   "source": [
    "df_group = df_s1.merge(df_s2, how = \"left\", left_on = 'Origin', right_on = 'Origin')\n",
    "df_group['CancelRate'] = df_group['Cancelled']/df_group['Count']"
   ]
  },
  {
   "cell_type": "code",
   "execution_count": 7,
   "metadata": {
    "collapsed": false
   },
   "outputs": [],
   "source": [
    "## load airport\n",
    "airport = pd.read_csv('airports.csv')\n",
    "airport.drop('country', axis = 1, inplace = True)\n",
    "## merge with airport csv\n",
    "data = df_group.merge(airport, \n",
    "             how = 'left',\n",
    "             left_on = 'Origin', \n",
    "             right_on = 'iata')"
   ]
  },
  {
   "cell_type": "code",
   "execution_count": 8,
   "metadata": {
    "collapsed": true
   },
   "outputs": [],
   "source": [
    "final = data[data.Count > 1000]\n",
    "final = final.sort(['CancelRate'], ascending=False)\n",
    "final = final.iloc[:25]\n",
    "final.to_csv('data.csv', index = False)"
   ]
  },
  {
   "cell_type": "code",
   "execution_count": 9,
   "metadata": {
    "collapsed": true
   },
   "outputs": [],
   "source": []
  },
  {
   "cell_type": "code",
   "execution_count": null,
   "metadata": {
    "collapsed": true
   },
   "outputs": [],
   "source": []
  }
 ],
 "metadata": {
  "kernelspec": {
   "display_name": "Python 2",
   "language": "python",
   "name": "python2"
  },
  "language_info": {
   "codemirror_mode": {
    "name": "ipython",
    "version": 2
   },
   "file_extension": ".py",
   "mimetype": "text/x-python",
   "name": "python",
   "nbconvert_exporter": "python",
   "pygments_lexer": "ipython2",
   "version": "2.7.10"
  }
 },
 "nbformat": 4,
 "nbformat_minor": 0
}
